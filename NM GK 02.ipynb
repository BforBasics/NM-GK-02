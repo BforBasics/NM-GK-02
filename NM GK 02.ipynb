{
 "cells": [
  {
   "cell_type": "code",
   "execution_count": 1,
   "id": "a47710fe-6857-4b51-8f36-4597ba5f5337",
   "metadata": {},
   "outputs": [
    {
     "name": "stderr",
     "output_type": "stream",
     "text": [
      "C:\\Users\\haste\\AppData\\Roaming\\Python\\Python310\\site-packages\\tqdm\\auto.py:21: TqdmWarning: IProgress not found. Please update jupyter and ipywidgets. See https://ipywidgets.readthedocs.io/en/stable/user_install.html\n",
      "  from .autonotebook import tqdm as notebook_tqdm\n"
     ]
    },
    {
     "name": "stdout",
     "output_type": "stream",
     "text": [
      "* Running on local URL:  http://127.0.0.1:7860\n",
      "* To create a public link, set `share=True` in `launch()`.\n"
     ]
    },
    {
     "data": {
      "text/html": [
       "<div><iframe src=\"http://127.0.0.1:7860/\" width=\"100%\" height=\"500\" allow=\"autoplay; camera; microphone; clipboard-read; clipboard-write;\" frameborder=\"0\" allowfullscreen></iframe></div>"
      ],
      "text/plain": [
       "<IPython.core.display.HTML object>"
      ]
     },
     "metadata": {},
     "output_type": "display_data"
    },
    {
     "name": "stderr",
     "output_type": "stream",
     "text": [
      "Traceback (most recent call last):\n",
      "  File \"C:\\ProgramData\\anaconda3\\envs\\Machinelearning\\lib\\site-packages\\gradio\\queueing.py\", line 625, in process_events\n",
      "    response = await route_utils.call_process_api(\n",
      "  File \"C:\\ProgramData\\anaconda3\\envs\\Machinelearning\\lib\\site-packages\\gradio\\route_utils.py\", line 322, in call_process_api\n",
      "    output = await app.get_blocks().process_api(\n",
      "  File \"C:\\ProgramData\\anaconda3\\envs\\Machinelearning\\lib\\site-packages\\gradio\\blocks.py\", line 2147, in process_api\n",
      "    result = await self.call_function(\n",
      "  File \"C:\\ProgramData\\anaconda3\\envs\\Machinelearning\\lib\\site-packages\\gradio\\blocks.py\", line 1665, in call_function\n",
      "    prediction = await anyio.to_thread.run_sync(  # type: ignore\n",
      "  File \"C:\\ProgramData\\anaconda3\\envs\\Machinelearning\\lib\\site-packages\\anyio\\to_thread.py\", line 56, in run_sync\n",
      "    return await get_async_backend().run_sync_in_worker_thread(\n",
      "  File \"C:\\ProgramData\\anaconda3\\envs\\Machinelearning\\lib\\site-packages\\anyio\\_backends\\_asyncio.py\", line 2364, in run_sync_in_worker_thread\n",
      "    return await future\n",
      "  File \"C:\\ProgramData\\anaconda3\\envs\\Machinelearning\\lib\\site-packages\\anyio\\_backends\\_asyncio.py\", line 864, in run\n",
      "    result = context.run(func, *args)\n",
      "  File \"C:\\ProgramData\\anaconda3\\envs\\Machinelearning\\lib\\site-packages\\gradio\\utils.py\", line 889, in wrapper\n",
      "    response = f(*args, **kwargs)\n",
      "  File \"C:\\Users\\haste\\AppData\\Local\\Temp\\ipykernel_16800\\1289122269.py\", line 44, in predict_with_bbox\n",
      "    image = image.resize((128, 128))  # Resize for uniformity\n",
      "AttributeError: 'NoneType' object has no attribute 'resize'\n"
     ]
    }
   ],
   "source": [
    "import cv2\n",
    "import numpy as np\n",
    "from PIL import Image\n",
    "import gradio as gr\n",
    "\n",
    "# ✅ STEP 1: Preprocessing - Contrast Enhancement\n",
    "def enhance_contrast(image):\n",
    "    gray = cv2.cvtColor(image, cv2.COLOR_RGB2GRAY)\n",
    "    clahe = cv2.createCLAHE(clipLimit=2.5, tileGridSize=(8,8))  # Adjusted contrast enhancement\n",
    "    return clahe.apply(gray)\n",
    "\n",
    "# ✅ STEP 2: Thresholding - Adaptive & Otsu\n",
    "def apply_threshold(gray_image):\n",
    "    _, otsu_thresh = cv2.threshold(gray_image, 0, 255, cv2.THRESH_BINARY + cv2.THRESH_OTSU)\n",
    "    adaptive_thresh = cv2.adaptiveThreshold(gray_image, 255, cv2.ADAPTIVE_THRESH_GAUSSIAN_C,\n",
    "                                            cv2.THRESH_BINARY, 15, 5)  # Fine-tuned parameters\n",
    "    return cv2.bitwise_and(otsu_thresh, adaptive_thresh)\n",
    "\n",
    "# ✅ STEP 3: Tumor Segmentation - HSV Color Mask\n",
    "def segment_tumor(image):\n",
    "    hsv = cv2.cvtColor(image, cv2.COLOR_RGB2HSV)\n",
    "    lower_tumor = np.array([0, 10, 30])   # Adjusted HSV range\n",
    "    upper_tumor = np.array([30, 255, 255])\n",
    "    return cv2.inRange(hsv, lower_tumor, upper_tumor)\n",
    "\n",
    "# ✅ STEP 4: Edge Detection - Canny Filtering\n",
    "def detect_edges(image):\n",
    "    return cv2.Canny(image, 50, 150)  # Helps refine tumor boundary\n",
    "\n",
    "# ✅ STEP 5: Contour Filtering - Isolate Tumor\n",
    "def extract_tumor_region(binary_image, original):\n",
    "    contours, _ = cv2.findContours(binary_image, cv2.RETR_TREE, cv2.CHAIN_APPROX_SIMPLE)\n",
    "\n",
    "    valid_contours = [cnt for cnt in contours if 200 < cv2.contourArea(cnt) < 15000]  # Adjusted range\n",
    "    if valid_contours:\n",
    "        largest = max(valid_contours, key=cv2.contourArea)\n",
    "        x, y, w, h = cv2.boundingRect(largest)\n",
    "        cv2.rectangle(original, (x, y), (x + w, y + h), (0, 255, 0), 2)  # Draw bounding box\n",
    "\n",
    "    return original\n",
    "\n",
    "# ✅ STEP 6: Prediction Function\n",
    "def predict_with_bbox(image):\n",
    "    image = image.resize((128, 128))  # Resize for uniformity\n",
    "    img_np = np.array(image)\n",
    "\n",
    "    # Apply all processing steps\n",
    "    contrast_img = enhance_contrast(img_np)\n",
    "    threshold_img = apply_threshold(contrast_img)\n",
    "    tumor_mask = segment_tumor(img_np)\n",
    "    edge_detected = detect_edges(contrast_img)\n",
    "\n",
    "    combined_mask = cv2.bitwise_or(threshold_img, tumor_mask)  # Merge techniques\n",
    "    refined_mask = cv2.bitwise_or(combined_mask, edge_detected)  # Further refine using edges\n",
    "\n",
    "    output_img = extract_tumor_region(refined_mask, img_np)\n",
    "\n",
    "    return \"yes\" if np.any(refined_mask) else \"no\", output_img\n",
    "\n",
    "# ✅ STEP 7: Gradio Interface\n",
    "interface = gr.Interface(\n",
    "    fn=predict_with_bbox,\n",
    "    inputs=gr.Image(type='pil'),\n",
    "    outputs=[\n",
    "        gr.Label(label=\"Prediction\"),\n",
    "        gr.Image(label=\"Tumor Highlighted Image (if any)\")\n",
    "    ],\n",
    "    title=\"Enhanced Brain Tumor Detector\",\n",
    "    description=\"Uses contrast boosting, thresholding, segmentation, and edge detection for improved accuracy.\"\n",
    ")\n",
    "\n",
    "# ✅ STEP 8: Launch App\n",
    "if __name__ == \"__main__\":\n",
    "    interface.launch()\n"
   ]
  },
  {
   "cell_type": "code",
   "execution_count": null,
   "id": "7856e96e-40ff-424d-82c1-f6ea0c2eb411",
   "metadata": {},
   "outputs": [],
   "source": []
  }
 ],
 "metadata": {
  "kernelspec": {
   "display_name": "Python 3 (ipykernel)",
   "language": "python",
   "name": "python3"
  },
  "language_info": {
   "codemirror_mode": {
    "name": "ipython",
    "version": 3
   },
   "file_extension": ".py",
   "mimetype": "text/x-python",
   "name": "python",
   "nbconvert_exporter": "python",
   "pygments_lexer": "ipython3",
   "version": "3.10.13"
  }
 },
 "nbformat": 4,
 "nbformat_minor": 5
}
